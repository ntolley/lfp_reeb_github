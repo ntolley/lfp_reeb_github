{
 "cells": [
  {
   "cell_type": "markdown",
   "metadata": {},
   "source": [
    "## Notebook to check VTK functionality"
   ]
  },
  {
   "cell_type": "code",
   "execution_count": 1,
   "metadata": {},
   "outputs": [],
   "source": [
    "import vtk\n",
    "import numpy as np\n",
    "import pandas as pd\n",
    "import networkx as nx\n",
    "import matplotlib.pyplot as plt\n",
    "from mpl_toolkits.mplot3d import Axes3D\n"
   ]
  },
  {
   "cell_type": "markdown",
   "metadata": {},
   "source": [
    "### Load CSD data and compute mesh"
   ]
  },
  {
   "cell_type": "code",
   "execution_count": 2,
   "metadata": {},
   "outputs": [],
   "source": [
    "#Load data into VTK table object (https://github.com/Kitware/VTK/blob/master/Examples/Infovis/Python/tables3.py)\n",
    "file_name = '/home/ntolley/Jones_Lab/lfp_reeb_local/data/gbarEvPyrAmpa_sweep/points/gbarEvPyrAmpa_sweep10.csv'\n",
    "\n",
    "#Load data values into grid\n",
    "np_points = np.array(pd.read_csv(file_name))\n",
    "point_bounds = np.max(np_points,axis=0) + 1\n",
    "int(point_bounds[0])\n",
    "topography = np.zeros((int(point_bounds[0]),int(point_bounds[1])))\n",
    "\n",
    "for p in range(np_points.shape[0]):\n",
    "    topography[int(np_points[p,0]),int(np_points[p,1])] = np_points[p,2]\n",
    "\n",
    "points = vtk.vtkPoints()\n",
    "triangles = vtk.vtkCellArray()\n",
    "\n",
    "data = vtk.vtkFloatArray()\n",
    "data.SetNumberOfComponents(1)\n",
    "data.SetName(\"Function Value\")\n",
    "\n",
    "# Build the meshgrid manually\n",
    "count = 0\n",
    "for i in range(topography.shape[0]-1):\n",
    "    for j in range(topography.shape[1]-1):\n",
    "        z1 = topography[i][j]\n",
    "        z2 = topography[i][j + 1]\n",
    "        z3 = topography[i + 1][j]\n",
    "\n",
    "        # Triangle 1\n",
    "        points.InsertNextPoint(i, j, z1)\n",
    "        points.InsertNextPoint(i, (j + 1), z2)\n",
    "        points.InsertNextPoint((i + 1), j, z3)\n",
    "\n",
    "        data.InsertNextValue(z1)\n",
    "        data.InsertNextValue(z2)\n",
    "        data.InsertNextValue(z3)\n",
    "\n",
    "        triangle = vtk.vtkTriangle()\n",
    "        triangle.GetPointIds().SetId(0, count)\n",
    "        triangle.GetPointIds().SetId(1, count + 1)\n",
    "        triangle.GetPointIds().SetId(2, count + 2)\n",
    "\n",
    "        triangles.InsertNextCell(triangle)\n",
    "\n",
    "        z1 = topography[i][j + 1]\n",
    "        z2 = topography[i + 1][j + 1]\n",
    "        z3 = topography[i + 1][j]\n",
    "\n",
    "        # Triangle 2\n",
    "        points.InsertNextPoint(i, (j + 1), z1)\n",
    "        points.InsertNextPoint((i + 1), (j + 1), z2)\n",
    "        points.InsertNextPoint((i + 1), j, z3)\n",
    "\n",
    "        data.InsertNextValue(z1)\n",
    "        data.InsertNextValue(z2)\n",
    "        data.InsertNextValue(z3)\n",
    "        \n",
    "        triangle = vtk.vtkTriangle()\n",
    "        triangle.GetPointIds().SetId(0, count + 3)\n",
    "        triangle.GetPointIds().SetId(1, count + 4)\n",
    "        triangle.GetPointIds().SetId(2, count + 5)\n",
    "\n",
    "        count += 6\n",
    "\n",
    "        triangles.InsertNextCell(triangle)\n",
    "\n",
    "# Create a polydata object\n",
    "trianglePolyData = vtk.vtkPolyData()\n",
    "\n",
    "# Add the geometry and topology to the polydata\n",
    "trianglePolyData.SetPoints(points)\n",
    "trianglePolyData.SetPolys(triangles)\n",
    "trianglePolyData.GetPointData().SetScalars(data)\n",
    "\n",
    "# Clean the polydata so that the edges are shared !\n",
    "cleanPolyData = vtk.vtkCleanPolyData()\n",
    "cleanPolyData.SetInputData(trianglePolyData)\n",
    "cleanPolyData.Update()\n",
    "dir(cleanPolyData)\n",
    "\n",
    "grid = cleanPolyData.GetOutput()\n"
   ]
  },
  {
   "cell_type": "markdown",
   "metadata": {},
   "source": [
    "### Simplify mesh with decimate"
   ]
  },
  {
   "cell_type": "code",
   "execution_count": 4,
   "metadata": {},
   "outputs": [],
   "source": [
    "decimate = vtk.vtkDecimatePro()\n",
    "decimate.SetInputData(grid)\n",
    "decimate.SetTargetReduction(0.99)\n",
    "decimate.PreserveTopologyOn()\n",
    "decimate.Update()\n",
    "\n",
    "decimated = vtk.vtkPolyData()\n",
    "decimated.ShallowCopy(decimate.GetOutput())\n",
    "\n",
    "\n",
    "data_decimated = vtk.vtkFloatArray()\n",
    "data_decimated.SetNumberOfComponents(1)\n",
    "data_decimated.SetName(\"Function Value\")\n"
   ]
  },
  {
   "cell_type": "markdown",
   "metadata": {},
   "source": [
    "### Build Reeb Graph with decimated mesh"
   ]
  },
  {
   "cell_type": "code",
   "execution_count": 5,
   "metadata": {},
   "outputs": [
    {
     "output_type": "execute_result",
     "data": {
      "text/plain": "0"
     },
     "metadata": {},
     "execution_count": 5
    }
   ],
   "source": [
    "reeb_graph = vtk.vtkReebGraph()\n",
    "err = reeb_graph.Build(decimated, decimated.GetPointData().GetScalars())\n",
    "err"
   ]
  },
  {
   "cell_type": "markdown",
   "metadata": {},
   "source": [
    "### Iterates over all edges in graph and stores in list"
   ]
  },
  {
   "cell_type": "code",
   "execution_count": 6,
   "metadata": {},
   "outputs": [],
   "source": [
    "iter_edge = vtk.vtkEdgeListIterator()\n",
    "iter_edge.SetGraph(reeb_graph)\n",
    "\n",
    "edge_list = []\n",
    "while iter_edge.HasNext():\n",
    "    temp_edge = iter_edge.NextGraphEdge()\n",
    "    source = temp_edge.GetSource()\n",
    "    target = temp_edge.GetTarget()\n",
    "    edge_list.append([source, target])"
   ]
  },
  {
   "cell_type": "markdown",
   "metadata": {},
   "source": [
    "### Iterates over nodes and stores x,y,z position"
   ]
  },
  {
   "cell_type": "code",
   "execution_count": 7,
   "metadata": {},
   "outputs": [],
   "source": [
    "iter_vertex = vtk.vtkVertexListIterator()\n",
    "iter_vertex.SetGraph(reeb_graph)\n",
    "\n",
    "# Vertex coordinates are stored under original mesh ID's \n",
    "point_data = decimated.GetPoints().GetData()\n",
    "vertex_mapping = reeb_graph.GetVertexData().GetAbstractArray(0)\n",
    "\n",
    "vertex_list = []\n",
    "while iter_vertex.HasNext():\n",
    "    graph_vertex_id = iter_vertex.Next()\n",
    "    mesh_vertex_id = int(vertex_mapping.GetTuple(graph_vertex_id)[0])\n",
    "\n",
    "    vertex_pos = point_data.GetTuple(mesh_vertex_id) \n",
    "    vertex_list.append(list(vertex_pos))\n"
   ]
  },
  {
   "cell_type": "markdown",
   "metadata": {},
   "source": [
    "### Visualize Graph"
   ]
  },
  {
   "cell_type": "code",
   "execution_count": 8,
   "metadata": {},
   "outputs": [],
   "source": [
    "surface_points = np.array(pd.read_csv(file_name)) \n",
    "\n",
    "node_points = np.array(vertex_list)\n",
    "node_connectivity = np.array(edge_list)"
   ]
  },
  {
   "cell_type": "code",
   "execution_count": 9,
   "metadata": {},
   "outputs": [],
   "source": [
    "%matplotlib qt\n",
    "\n",
    "num_pairs = node_connectivity.shape[0]\n",
    "fig = plt.figure(figsize = (8,6))\n",
    "ax = plt.axes(projection='3d')\n",
    "\n",
    "for pair in range(num_pairs):\n",
    "    pairID = node_connectivity[pair]\n",
    "    xdata, ydata, zdata = node_points[pairID, 0], node_points[pairID, 1], node_points[pairID, 2]\n",
    "\n",
    "    ax.plot(xdata,ydata,zdata, 'k', linewidth=0.2)\n",
    "\n",
    "step_size = 50\n",
    "ax.plot_trisurf(surface_points[::step_size,0],surface_points[::step_size,1],surface_points[::step_size,2],cmap='viridis',edgecolor='none', alpha=0.8)\n",
    "plt.show()"
   ]
  },
  {
   "cell_type": "code",
   "execution_count": 10,
   "metadata": {},
   "outputs": [
    {
     "output_type": "execute_result",
     "data": {
      "text/plain": "True"
     },
     "metadata": {},
     "execution_count": 10
    }
   ],
   "source": [
    "G = nx.Graph()\n",
    "G.add_edges_from(edge_list)\n",
    "nx.is_tree(G)"
   ]
  },
  {
   "cell_type": "code",
   "execution_count": null,
   "metadata": {},
   "outputs": [],
   "source": []
  }
 ],
 "metadata": {
  "language_info": {
   "codemirror_mode": {
    "name": "ipython",
    "version": 3
   },
   "file_extension": ".py",
   "mimetype": "text/x-python",
   "name": "python",
   "nbconvert_exporter": "python",
   "pygments_lexer": "ipython3",
   "version": "3.7.6-final"
  },
  "orig_nbformat": 2,
  "kernelspec": {
   "name": "python3",
   "display_name": "Python 3"
  }
 },
 "nbformat": 4,
 "nbformat_minor": 2
}