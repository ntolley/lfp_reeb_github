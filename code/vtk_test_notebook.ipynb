{
 "cells": [
  {
   "cell_type": "markdown",
   "metadata": {},
   "source": [
    "## Notebook to check VTK functionality"
   ]
  },
  {
   "cell_type": "code",
   "execution_count": 1,
   "metadata": {},
   "outputs": [],
   "source": [
    "import vtk\n",
    "import vtk_functions\n",
    "import numpy as np\n",
    "import pandas as pd\n",
    "import networkx as nx\n",
    "import matplotlib.pyplot as plt\n",
    "from mpl_toolkits.mplot3d import Axes3D\n",
    "import os\n"
   ]
  },
  {
   "cell_type": "markdown",
   "metadata": {},
   "source": [
    "### Load CSD data and compute mesh"
   ]
  },
  {
   "cell_type": "code",
   "execution_count": 2,
   "metadata": {},
   "outputs": [],
   "source": [
    "file_list = os.listdir('/home/ntolley/Jones_Lab/lfp_reeb_local/data/gbarEvPyrAmpa_sweep/points')\n",
    "\n",
    "file_name = '/home/ntolley/Jones_Lab/lfp_reeb_local/data/gbarEvPyrAmpa_sweep/points/gbarEvPyrAmpa_sweep10.csv'\n",
    "\n",
    "grid = vtk_functions.csd_to_mesh(file_name)\n",
    "decimated = vtk_functions.decimate_mesh(grid, 0.99)\n",
    "\n",
    "reeb_graph = vtk.vtkReebGraph()\n",
    "err = reeb_graph.Build(decimated, decimated.GetPointData().GetScalars())\n",
    "\n",
    "vertex_list, edge_list = vtk_functions.reeb_to_skeleton(reeb_graph,decimated)\n",
    "\n",
    "G = nx.Graph()\n",
    "G.add_edges_from(edge_list)\n",
    "nx.is_tree(G)"
   ]
  },
  {
   "cell_type": "markdown",
   "metadata": {},
   "source": [
    "### Visualize Graph"
   ]
  },
  {
   "cell_type": "code",
   "execution_count": 5,
   "metadata": {},
   "outputs": [],
   "source": [
    "%matplotlib qt\n",
    "\n",
    "surface_points = np.array(pd.read_csv(file_name)) \n",
    "\n",
    "node_points = np.array(vertex_list)\n",
    "node_connectivity = np.array(edge_list)\n",
    "\n",
    "num_pairs = node_connectivity.shape[0]\n",
    "fig = plt.figure(figsize = (8,6))\n",
    "ax = plt.axes(projection='3d')\n",
    "\n",
    "for pair in range(num_pairs):\n",
    "    pairID = node_connectivity[pair]\n",
    "    xdata, ydata, zdata = node_points[pairID, 0], node_points[pairID, 1], node_points[pairID, 2]\n",
    "\n",
    "    ax.plot(xdata,ydata,zdata, 'k', linewidth=0.2)\n",
    "\n",
    "step_size = 50\n",
    "ax.plot_trisurf(surface_points[::step_size,0],surface_points[::step_size,1],surface_points[::step_size,2],cmap='viridis',edgecolor='none', alpha=0.8)\n",
    "plt.show()"
   ]
  },
  {
   "cell_type": "code",
   "execution_count": null,
   "metadata": {},
   "outputs": [],
   "source": []
  }
 ],
 "metadata": {
  "language_info": {
   "codemirror_mode": {
    "name": "ipython",
    "version": 3
   },
   "file_extension": ".py",
   "mimetype": "text/x-python",
   "name": "python",
   "nbconvert_exporter": "python",
   "pygments_lexer": "ipython3",
   "version": "3.7.6-final"
  },
  "orig_nbformat": 2,
  "kernelspec": {
   "name": "python3",
   "display_name": "Python 3"
  }
 },
 "nbformat": 4,
 "nbformat_minor": 2
}