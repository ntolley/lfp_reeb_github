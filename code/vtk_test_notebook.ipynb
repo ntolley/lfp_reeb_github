{
 "cells": [
  {
   "cell_type": "markdown",
   "metadata": {},
   "source": [
    "## Notebook to check VTK functionality"
   ]
  },
  {
   "cell_type": "code",
   "execution_count": 9,
   "metadata": {},
   "outputs": [],
   "source": [
    "import vtk\n",
    "import numpy as np\n",
    "import pandas as pd\n",
    "import matplotlib.pyplot as plt\n",
    "from mpl_toolkits.mplot3d import Axes3D\n"
   ]
  },
  {
   "cell_type": "markdown",
   "metadata": {},
   "source": [
    "### Load CSD data and compute mesh"
   ]
  },
  {
   "cell_type": "code",
   "execution_count": 2,
   "metadata": {},
   "outputs": [],
   "source": [
    "#Load data into VTK table object (https://github.com/Kitware/VTK/blob/master/Examples/Infovis/Python/tables3.py)\n",
    "file_name = '/home/ntolley/Jones_Lab/lfp_reeb_local/data/gbarEvPyrAmpa_sweep/points/gbarEvPyrAmpa_sweep1.csv'\n",
    "\n",
    "csv_source = vtk.vtkDelimitedTextReader()\n",
    "csv_source.SetFieldDelimiterCharacters(\",\")\n",
    "csv_source.SetHaveHeaders(False)\n",
    "csv_source.SetDetectNumericColumns(True)\n",
    "csv_source.SetFileName(file_name)\n",
    "csv_source.Update()\n",
    "\n",
    "T = csv_source.GetOutput()\n",
    "\n",
    "# USER: vtkReebGraph's Build() function will rely on a vtkPolyData that\n",
    "#  specifically only has triangles.  vtkUnstructuredGrid could be used\n",
    "#  for tetrahedra.  \n",
    "#  See http://www.vtk.org/doc/nightly/html/classvtkReebGraph.html#details\n",
    "grid = vtk.vtkPolyData()\n",
    "\n",
    "points = vtk.vtkPoints()\n",
    "data = vtk.vtkFloatArray()\n",
    "data.SetNumberOfComponents(1)\n",
    "data.SetName(\"Function Value\")\n",
    "\n",
    "points.SetNumberOfPoints(T.GetNumberOfRows())\n",
    "for r in range(T.GetNumberOfRows()):\n",
    "    points.InsertPoint(r, T.GetColumn(0).GetValue(r),T.GetColumn(1).GetValue(r),T.GetColumn(2).GetValue(r))\n",
    "    data.InsertNextValue(T.GetColumn(2).GetValue(r))\n",
    "    \n",
    "\n",
    "grid.SetPoints(points)\n",
    "grid.GetPointData().SetScalars(data)\n",
    "\n",
    "point_bounds = points.GetBounds()\n",
    "x, y = int(point_bounds[1]), int(point_bounds[3])\n",
    "\n",
    "\n",
    "tris = vtk.vtkCellArray()\n",
    "\n",
    "for j in range(y) :\n",
    "   for i in range(x) :\n",
    "      tri = [j*x+i, j*x+i+1, (j+1)*x+i]\n",
    "      tris.InsertNextCell(3, tri)\n",
    "      \n",
    "      tri = [j*x+i+1, (j+1)*x+i, (j+1)*x+i+1]\n",
    "      tris.InsertNextCell(3, tri)\n",
    "\n",
    "grid.SetPolys(tris)"
   ]
  },
  {
   "cell_type": "markdown",
   "metadata": {},
   "source": [
    "### Simplify mesh with decimate"
   ]
  },
  {
   "cell_type": "code",
   "execution_count": 3,
   "metadata": {},
   "outputs": [],
   "source": [
    "decimate = vtk.vtkDecimatePro()\n",
    "decimate.SetInputData(grid)\n",
    "decimate.SetTargetReduction(0.99)\n",
    "decimate.PreserveTopologyOn()\n",
    "decimate.Update()\n",
    "\n",
    "decimated = vtk.vtkPolyData()\n",
    "decimated.ShallowCopy(decimate.GetOutput())\n",
    "\n",
    "\n",
    "data_decimated = vtk.vtkFloatArray()\n",
    "data_decimated.SetNumberOfComponents(1)\n",
    "data_decimated.SetName(\"Function Value\")\n"
   ]
  },
  {
   "cell_type": "markdown",
   "metadata": {},
   "source": [
    "### Build Reeb Graph with decimated mesh"
   ]
  },
  {
   "cell_type": "code",
   "execution_count": 4,
   "metadata": {},
   "outputs": [],
   "source": [
    "reeb_graph = vtk.vtkReebGraph()\n",
    "err = reeb_graph.Build(decimated, decimated.GetPointData().GetScalars())"
   ]
  },
  {
   "cell_type": "markdown",
   "metadata": {},
   "source": [
    "### Iterates over all edges in graph and stores in list"
   ]
  },
  {
   "cell_type": "code",
   "execution_count": 5,
   "metadata": {},
   "outputs": [],
   "source": [
    "iter_edge = vtk.vtkEdgeListIterator()\n",
    "iter_edge.SetGraph(reeb_graph)\n",
    "\n",
    "edge_list = []\n",
    "while iter_edge.HasNext():\n",
    "    temp_edge = iter_edge.NextGraphEdge()\n",
    "    source = temp_edge.GetSource()\n",
    "    target = temp_edge.GetTarget()\n",
    "    edge_list.append([source, target])"
   ]
  },
  {
   "cell_type": "markdown",
   "metadata": {},
   "source": [
    "### Iterates over nodes and stores x,y,z position"
   ]
  },
  {
   "cell_type": "code",
   "execution_count": 6,
   "metadata": {},
   "outputs": [],
   "source": [
    "iter_vertex = vtk.vtkVertexListIterator()\n",
    "iter_vertex.SetGraph(reeb_graph)\n",
    "\n",
    "# Vertex coordinates are stored under original mesh ID's \n",
    "point_data = decimated.GetPoints().GetData()\n",
    "vertex_mapping = reeb_graph.GetVertexData().GetAbstractArray(0)\n",
    "\n",
    "vertex_list = []\n",
    "while iter_vertex.HasNext():\n",
    "    graph_vertex_id = iter_vertex.Next()\n",
    "    mesh_vertex_id = int(vertex_mapping.GetTuple(graph_vertex_id)[0])\n",
    "\n",
    "    vertex_pos = point_data.GetTuple(mesh_vertex_id) \n",
    "    vertex_list.append(list(vertex_pos))\n"
   ]
  },
  {
   "cell_type": "markdown",
   "metadata": {},
   "source": [
    "### Visualize Graph"
   ]
  },
  {
   "cell_type": "code",
   "execution_count": 7,
   "metadata": {},
   "outputs": [],
   "source": [
    "surface_points = np.array(pd.read_csv(file_name)) \n",
    "\n",
    "node_points = np.array(vertex_list)\n",
    "node_connectivity = np.array(edge_list)"
   ]
  },
  {
   "cell_type": "code",
   "execution_count": 14,
   "metadata": {},
   "outputs": [],
   "source": [
    "# %matplotlib qt\n",
    "\n",
    "num_pairs = node_connectivity.shape[0]\n",
    "fig = plt.figure(figsize = (8,6))\n",
    "ax = plt.axes(projection='3d')\n",
    "\n",
    "for pair in range(num_pairs):\n",
    "    pairID = node_connectivity[pair]\n",
    "    xdata, ydata, zdata = node_points[pairID, 0], node_points[pairID, 1], node_points[pairID, 2]\n",
    "\n",
    "    ax.plot(xdata,ydata,zdata, 'k', linewidth=0.2)\n",
    "\n",
    "step_size = 50\n",
    "ax.plot_trisurf(surface_points[::step_size,0],surface_points[::step_size,1],surface_points[::step_size,2],cmap='viridis',edgecolor='none', alpha=0.8)\n",
    "plt.show()"
   ]
  },
  {
   "cell_type": "code",
   "execution_count": null,
   "metadata": {},
   "outputs": [],
   "source": []
  }
 ],
 "metadata": {
  "language_info": {
   "codemirror_mode": {
    "name": "ipython",
    "version": 3
   },
   "file_extension": ".py",
   "mimetype": "text/x-python",
   "name": "python",
   "nbconvert_exporter": "python",
   "pygments_lexer": "ipython3",
   "version": "3.7.6-final"
  },
  "orig_nbformat": 2,
  "kernelspec": {
   "name": "python3",
   "display_name": "Python 3"
  }
 },
 "nbformat": 4,
 "nbformat_minor": 2
}